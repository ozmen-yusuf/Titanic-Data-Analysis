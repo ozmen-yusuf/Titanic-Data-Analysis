{
 "cells": [
  {
   "cell_type": "markdown",
   "id": "018e6dea",
   "metadata": {},
   "source": [
    "# Analysis of Survival on the Titanic\n",
    "\n",
    "### Project Overview\n",
    "This notebook analyzes the famous Titanic dataset to understand the key factors that influenced passengers' survival. We will explore the relationships between features like passenger class, gender, and age, and their impact on the survival outcome.\n",
    "\n",
    "### 1. Setup and Data Loading\n",
    "First, we import the necessary libraries and load our data into a Pandas DataFrame."
   ]
  },
  {
   "cell_type": "code",
   "execution_count": null,
   "id": "85fa1c39",
   "metadata": {
    "vscode": {
     "languageId": "plaintext"
    }
   },
   "outputs": [],
   "source": [
    "import pandas as pd\n",
    "import matplotlib.pyplot as plt\n",
    "import seaborn as sns\n",
    "\n",
    "# A sample of the Titanic dataset\n",
    "# Survived: 1 = Survived, 0 = Did not survive\n",
    "# Pclass: 1 = 1st Class, 2 = 2nd Class, 3 = 3rd Class\n",
    "data = {\n",
    "    'Survived': [0, 1, 1, 0, 1, 0, 0, 1, 1, 0, 1, 1],\n",
    "    'Pclass':   [3, 1, 3, 1, 3, 3, 1, 3, 2, 3, 2, 1],\n",
    "    'Sex':      ['male', 'female', 'female', 'male', 'female', 'male', 'male', 'female', 'female', 'male', 'female', 'female'],\n",
    "    'Age':      [22, 38, 26, 35, 4, 28, 54, 2, 14, 32, 27, 19]\n",
    "}\n",
    "titanic_df = pd.DataFrame(data)\n",
    "\n",
    "# Display the first 5 rows of the dataframe\n",
    "print(\"--- Sample Data ---\")\n",
    "titanic_df.head()"
   ]
  },
  {
   "cell_type": "markdown",
   "id": "b23e296b",
   "metadata": {},
   "source": [
    "### 2. Exploratory Data Analysis (EDA)\n",
    "\n",
    "Now, let's analyze the data to find insights. We'll start by examining the survival rates based on gender and passenger class."
   ]
  },
  {
   "cell_type": "code",
   "execution_count": null,
   "id": "2944d41d",
   "metadata": {
    "vscode": {
     "languageId": "plaintext"
    }
   },
   "outputs": [],
   "source": [
    "# Calculate survival rates by gender\n",
    "# NOTE: The column name is 'Survived' (uppercase S). I've corrected this from the original 'survived'.\n",
    "gender_survival = titanic_df.groupby('Sex')['Survived'].mean()\n",
    "\n",
    "print(\"--- Survival Rate by Gender ---\")\n",
    "print(gender_survival)\n",
    "\n",
    "# Visualize the survival rate by gender\n",
    "plt.figure(figsize=(8, 5))\n",
    "sns.barplot(x=gender_survival.index, y=gender_survival.values)\n",
    "plt.title('Survival Rate by Gender')\n",
    "plt.xlabel('Gender')\n",
    "plt.ylabel('Survival Rate')\n",
    "plt.show()"
   ]
  },
  {
   "cell_type": "code",
   "execution_count": null,
   "id": "0428815a",
   "metadata": {
    "vscode": {
     "languageId": "plaintext"
    }
   },
   "outputs": [],
   "source": [
    "# Calculate survival rates by passenger class\n",
    "class_survival = titanic_df.groupby('Pclass')['Survived'].mean()\n",
    "\n",
    "print(\"\\n--- Survival Rate by Passenger Class ---\")\n",
    "print(class_survival)\n",
    "\n",
    "# Visualize the survival rate by class\n",
    "plt.figure(figsize=(8, 5))\n",
    "sns.barplot(x=class_survival.index, y=class_survival.values)\n",
    "plt.title('Survival Rate by Passenger Class')\n",
    "plt.xlabel('Passenger Class')\n",
    "plt.ylabel('Survival Rate')\n",
    "plt.show()"
   ]
  },
  {
   "cell_type": "markdown",
   "id": "b515ba97",
   "metadata": {},
   "source": [
    "### 3. Key Findings\n",
    "\n",
    "Based on this initial analysis, we can draw two clear conclusions:\n",
    "\n",
    "* **Gender Impact:** Female passengers had a significantly higher chance of survival compared to male passengers.\n",
    "* **Class Impact:** The likelihood of survival decreased as passenger class decreased. First-class passengers had the highest survival rate.\n",
    "\n",
    "These insights are crucial first steps for building a predictive machine learning model."
   ]
  }
 ],
 "metadata": {
  "language_info": {
   "name": "python"
  }
 },
 "nbformat": 4,
 "nbformat_minor": 5
}
